{
  "nbformat": 4,
  "nbformat_minor": 0,
  "metadata": {
    "colab": {
      "provenance": [],
      "authorship_tag": "ABX9TyM1rR7gwTitL/LnTyGy+Crm",
      "include_colab_link": true
    },
    "kernelspec": {
      "name": "python3",
      "display_name": "Python 3"
    },
    "language_info": {
      "name": "python"
    }
  },
  "cells": [
    {
      "cell_type": "markdown",
      "metadata": {
        "id": "view-in-github",
        "colab_type": "text"
      },
      "source": [
        "<a href=\"https://colab.research.google.com/github/Jesusleg95/AnalisisDatosPython/blob/main/VisualizacionesUnivariales/Histograma.ipynb\" target=\"_parent\"><img src=\"https://colab.research.google.com/assets/colab-badge.svg\" alt=\"Open In Colab\"/></a>"
      ]
    },
    {
      "cell_type": "markdown",
      "source": [
        "**Histograma:** Es un diagrama de barras que representa la distribución de una variable numérica"
      ],
      "metadata": {
        "id": "rRkJi6oOjxqC"
      }
    },
    {
      "cell_type": "code",
      "source": [],
      "metadata": {
        "id": "48kKKfrkjy8U"
      },
      "execution_count": null,
      "outputs": []
    }
  ]
}