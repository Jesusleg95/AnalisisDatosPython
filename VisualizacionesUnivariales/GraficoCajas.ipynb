{
  "nbformat": 4,
  "nbformat_minor": 0,
  "metadata": {
    "colab": {
      "provenance": [],
      "authorship_tag": "ABX9TyPkR57t1q71kSLBC9/fj+IU",
      "include_colab_link": true
    },
    "kernelspec": {
      "name": "python3",
      "display_name": "Python 3"
    },
    "language_info": {
      "name": "python"
    }
  },
  "cells": [
    {
      "cell_type": "markdown",
      "metadata": {
        "id": "view-in-github",
        "colab_type": "text"
      },
      "source": [
        "<a href=\"https://colab.research.google.com/github/Jesusleg95/AnalisisDatosPython/blob/main/VisualizacionesUnivariales/GraficoCajas.ipynb\" target=\"_parent\"><img src=\"https://colab.research.google.com/assets/colab-badge.svg\" alt=\"Open In Colab\"/></a>"
      ]
    },
    {
      "cell_type": "markdown",
      "source": [
        "**Gráfico de Cajas:** Muestra estadísticos de una variable de uno o más grupos de mis datos medíante cajas, se utiliza cuando quiero comparar diversos grupos a través de sus estadísticos (meida, mediana y cuartiles)"
      ],
      "metadata": {
        "id": "aOwdTwGPriE2"
      }
    },
    {
      "cell_type": "markdown",
      "source": [
        "**Objetivo Actual:** Encontrar información acerca de las diferencias de edades entre los pasajeros hombres y mujeres"
      ],
      "metadata": {
        "id": "zcOJqKPkuWvh"
      }
    },
    {
      "cell_type": "code",
      "source": [],
      "metadata": {
        "id": "8_YsGCrprjl_"
      },
      "execution_count": null,
      "outputs": []
    }
  ]
}